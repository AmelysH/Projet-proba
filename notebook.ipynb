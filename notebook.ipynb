{
 "cells": [
  {
   "cell_type": "markdown",
   "metadata": {},
   "source": [
    "# Enoncé du problème\n",
    "\n",
    "L'objectif de ce projet est d'estimer la longueur de câble sous-marin nécessaire pour relier deux côtes $A$ et $B$  en utilisant des simulations conditionnelles.\n",
    "\n",
    "\n",
    "Le câble reposera sur le fond marin dont la profondeur est inconnue.\n",
    "Le segment $[AB]$ est discrétisé par une séquence de (N+1) points. On pose $x_0=A$ et pour $i=1,\\dots,N$, $$x_i=x_0+i\\Delta$$ où $$\\Delta = \\frac{AB}{N}$$ de telle sorte que $x_N=B$.\n",
    "On note $z(x)$ la profondeur du fond marin au point $x$ de telle sorte \n",
    "qu'on pourra estimer la longueur totale de câble nécessaire par la somme \n",
    "des longueurs sur les segments de la discrétisation :\n",
    "\n",
    "$$l=\\sum_{i=1}^N\\sqrt{\\Delta^2+(z(x_i)-z(x_{i-1}))^2}.$$\n",
    "\n",
    "Enfin, notons que l'on dispose d'un ensemble de $n$ observations de la \n",
    "profondeur que l'on supposera situées sur des points de discrétisation $z(x_{j_1}),\\dots,z(x_{j_n})$.\n",
    "\n",
    "\n",
    "On adopte un modèle probabiliste pour la profondeur. On suppose que le vecteur des \n",
    "profondeurs sur les points de discrétisation \n",
    "$\\mathbf{z}=(z(x_0),\\dots,z(x_N))$ est la réalisation\n",
    "d'un vecteur aléatoire gaussien $\\mathbf{Z}=(Z(x_0),\\dots,Z(x_N))$ \n",
    "dont le vecteur d'espérance ne contient qu'une seule valeur $\\mu$ \n",
    "répétée $N+1$ fois et dont la matrice de covariance $\\Sigma$ a pour termes $\\sigma_{ij}$\n",
    "définis par $\\sigma_{ij}=C(|x_i-x_j|)$ où $C$ est une\n",
    "fonction décroissante, traduisant le fait que deux points \n",
    "géographiquement proches ont tendance à avoir des profondeurs plus similaires que deux points éloignés.\n",
    "\n",
    "On supposera que la matrice de covariance ainsi \n",
    "générée est définie-positive (en fait, $C$ sera choisie parmi les fonctions qui, \n",
    "appliquées aux termes d'une matrice de distance, produisent des matrices définie-positives). \n",
    "\n",
    "Si on note $L$ la variable aléatoire donnant la longueur de cable nécessaire : \n",
    "$$L=\\sum_{i=1}^N\\sqrt{\\Delta^2+(Z(x_i)-Z(x_{i-1}))^2},$$\n",
    "un bon estimateur de $L$ est fourni par l'espérance conditionnelle \n",
    "\n",
    "$$L^\\star=E[L|Z(x_{j_1})=z(x_{j_1}),\\dots,Z(x_{j_n})=z(x_{j_n})].$$\n",
    "                                                                              \n",
    "Cependant, cette quantité est difficilement accessible par le calcul. \n",
    "On va donc avoir recours à des\n",
    "simulations conditionnelles. C'est-à-dire que l'on va simuler \n",
    "un nombre $K$ de réalités (disons des réalisations du modèle \n",
    "probabiliste choisi), et sur chacune d'entre elle, \n",
    "la quantité de câble nécessaire sera évaluée. \n",
    "On disposera ainsi d'un échantillon $l_{(1)},\\dots,l_{(K)}$ de \n",
    "longueures simulées. Puis on approchera l'espérance conditionnelle  par \n",
    "$$L^\\star=\\frac{1}{K}\\sum_{k=1}^K l_{(k)}.$$\n",
    "\n",
    "L'objectif de ce projet est donc d'écrire un code permettant \n",
    "d'effectuer cette simulation conditionnelle, puis de l'appliquer \n",
    "au jeu de données fourni et d'en déduire une estimation de la longueur de câble nécessaire."
   ]
  },
  {
   "cell_type": "markdown",
   "metadata": {},
   "source": [
    "# Questions théoriques\n",
    "\n",
    "1. Quel théorème du cours nous autorise-t-il à estimer l'espérance conditionnelle par la moyenne empirique de simulations conditionnelles ?\n",
    "\n",
    "2. Rappeler la loi conditionnelle du vecteur des composantes de $\\mathbf{Z}$ correspondant aux points de discrétisation\n",
    "sans observation, connaissant les valeurs prises par les composantes aux sites d'observation.\n",
    "\n",
    "3. Si $\\mathbf{Y}=(Y_1,\\dots,Y_p)$ est un vecteur de composantes gaussiennes indépendantes, toutes d'espérance nulle et de variance 1, \n",
    "quelle est la loi du vecteur $\\mathbf{Z}=m+R\\mathbf{Y}$ où $R$ est une matrice $p\\times p$ inversible et $m$ est un vecteur de taille $p$ ?\n",
    "\n",
    "4. En déduire un algorithme de simulation conditionnelle."
   ]
  },
  {
   "cell_type": "markdown",
   "metadata": {},
   "source": [
    "# Réponses questions théoriques"
   ]
  },
  {
   "cell_type": "markdown",
   "metadata": {},
   "source": [
    "1. La suite de variables aléatoires des longueurs simulées $l_{(k)}$ est une suite de varaibles aléatoires $L^1$ indépendantes et de même loi donc d'après la loi des grands nombres la moyenne empirique de ces longeurs converge vers l'espérence de ces variables aléatoires qui est donc l'espérance conditionelle."
   ]
  },
  {
   "cell_type": "markdown",
   "metadata": {},
   "source": [
    "2. On a un vecteur gaussien $Z = (Z(x_0), . . . , Z(x_N))$ de vecteur d’espérance $\\mu$ et de matrice de covariance C supposée définie positive. Alors la densité conditionnelle de Z (aux points de discrédisation sans observation) sachant $z = (z(x_{j_1}),..., z(x_{j_n}))$ s’écrit :\n",
    "\n",
    "$f_{Z | z = (z(x_{j_1}),..., z(x_{j_n}))} (x) = \\frac{1}{(2π)^\\frac{N+1-n}{2} \\sqrt{det(CS_Z)}} \\exp(-\\frac{1}{2}(x - \\psi((z(x_{j_1}),..., z(x_{j_n}))))^T C S^{-1}(x - \\psi((z(x_{j_1}),..., z(x_{j_n})))) $.\n",
    "\n",
    "Où : $CS_Z = C_Z − C_{Z, z} C_{z}^{-1}C_{z, Z}$ lorsque l'on note $C_Z$ et $C_z$ les covariances des profondeurs aux points de non-observation et aux points d'observation. $C_{z, Z}$  est la covariance entre les profondeurs aux points de non-observation et les profondeurs aux points d'observation (c'est donc une matrice de taille $n \\times (N+1-n)$) et on définit de manière symétrique $C_{Z, z}$ qui est donc sa transposée car $C$ est symétrique. Et $\\psi(z) = m_Z + C_{Z, z} C_z^{-1} (z - m_z)$ où $m_Z$ et $m_z$ sont les espérances des profondeurs aux points de non-observation et d'observation (égaux à $\\mu$ ici).\n",
    "\n",
    "\n",
    "Donc la variable aléatoire $Z | z = (z(x_{j_1}),..., z(x_{j_n}))$ est gaussienne d’espérance $m_{Z | z = (z(x_{j_1}),..., z(x_{j_n})))} = \\psi(z) = m_Z + C_{Z, z} C_z^{-1} (z - m_z)$ et de matrice de covariance $CS_Z = C_Z − C_{Z, z} C_{z}^{-1}C_{z, Z}$ ."
   ]
  },
  {
   "cell_type": "markdown",
   "metadata": {},
   "source": [
    "3.  Si $Y = (Y_1, . . . , Y_p)$ est un vecteur de composantes gaussiennes indépendantes, toutes d’espérance nulle et de variance $C=1$ (c'est à dire l'identité), alors le vecteur $Z = m + RY$ (où $R$ est une matrice p × p et m est un vecteur de taille p) est gaussien d’espérance $\\mathbb{E}(Z) = \\mathbb{E}((m + RY)) = m + R \\ \\mathbb{E}(Y) = m$ et de variance  $\\mathbb{V}(Z) =\\mathbb{E}((Z-m)^2) = \\mathbb{E}( RY(RY)^T) = R \\ \\mathbb{E}(Y(Y^T)) R^T = R C R^T = RR^T$ car ici $C = I_p$ et $Y$ est d'espérance nulle."
   ]
  },
  {
   "cell_type": "markdown",
   "metadata": {},
   "source": [
    "4. Pour simuler $Z | z = (z(x_{j_1}),..., z(x_{j_n}))$, on peut simuler un vecteur $Y = (Y_1, . . . , Y_{N+1-n})$ de composantes gaussiennes indépendantes, toutes d’espérance nulle et de variance $C=1$ (c'est à dire l'identité). On note $R$ la matrice de Cholesky de $CS_Z$. On a alors $Z | z = (z(x_{j_1}),..., z(x_{j_n})) = \\mu + RY$. \n",
    "\n",
    "Pour simuler, Y il suffit de simuler $N+1-n$ vecteurs gaussiens d'espérance 0 et de variance 1 en utilisant la méthode du Box-Muller ou la fonction numpy.random.normal de Python."
   ]
  },
  {
   "cell_type": "markdown",
   "metadata": {},
   "source": [
    "# Données du problème\n",
    "Conventionnellement, $A$ est l'origine, $B=500$, $N=100$.\n",
    "\n",
    "Les données $$\\begin{array}{c|r}i & z(x_i)\\\\\n",
    "\\hline\n",
    "0 & 0\\\\\n",
    "20 & -4\\\\\n",
    "40 & -12.8\\\\\n",
    "60 & -1\\\\\n",
    "80 & -6.5\\\\\n",
    "100 & 0\\end{array}$$\n",
    "\n",
    "L'espérance de chaque composante du vecteur aléatoire $\\mathbf{Z}$ est donnée par $\\mu=-5.$\n",
    "\n",
    "La fonction $C$ est définie par $$C(h)=\\sigma^2 e^{-|h|/a},$$\n",
    "\n",
    "où $|h|$ correspond à la distance entre deux points, $a=50$ et $\\sigma^2=12$.\n"
   ]
  },
  {
   "cell_type": "markdown",
   "metadata": {},
   "source": [
    "# Implémentation"
   ]
  },
  {
   "cell_type": "markdown",
   "metadata": {},
   "source": [
    "## Préambule"
   ]
  },
  {
   "cell_type": "code",
   "execution_count": null,
   "metadata": {},
   "outputs": [],
   "source": [
    "#Chargement de dépendances\n",
    "\n",
    "import numpy as np\n",
    "import numpy.linalg as linalg\n",
    "import matplotlib.pyplot as plt\n",
    "\n",
    "#Discrétisation\n",
    "A=0\n",
    "B=500\n",
    "N=101 #Nombre de points de discrétisation\n",
    "Delta = (B-A)/(N-1)\n",
    "discretization_indexes = np.arange(N)\n",
    "discretization = discretization_indexes*Delta\n",
    "#Paramètres du modèle\n",
    "\n",
    "mu=-5\n",
    "a = 50\n",
    "sigma2 = 12\n",
    "\n",
    "#Données\n",
    "\n",
    "observation_indexes = [0,20,40,60,80,100]\n",
    "depth = np.array([0,-4,-12.8,-1,-6.5,0])\n",
    "\n",
    "#Indices des composantes correspondant aux observations et aux componsantes non observées\n",
    "\n",
    "unknown_indexes=list(set(discretization_indexes)-set(observation_indexes))\n"
   ]
  },
  {
   "cell_type": "markdown",
   "metadata": {},
   "source": [
    "## Questions\n",
    "\n",
    "1. Ecrire une fonction qui prend en argument la distance entre les points, le paramètre $a$, et le paramètre $\\sigma^2$, et qui retourne la covariance entre deux points.\n",
    "On pourra fournir une matrice de distance à cette fonction. Dans ce cas, la fonction renverra la matrice de covariance."
   ]
  },
  {
   "cell_type": "code",
   "execution_count": null,
   "metadata": {},
   "outputs": [],
   "source": [
    "def cov(dist, a = a, sigma2 = sigma2):\n",
    "    def C(x) :\n",
    "        return sigma2*np.exp(-np.abs(x)/a)\n",
    "    return C(dist)"
   ]
  },
  {
   "cell_type": "markdown",
   "metadata": {},
   "source": [
    "2. Calculer la matrice de distance."
   ]
  },
  {
   "cell_type": "code",
   "execution_count": null,
   "metadata": {},
   "outputs": [],
   "source": [
    "matrice_distance = np.array([[np.abs(i-j) for i in discretization] for j in discretization])"
   ]
  },
  {
   "cell_type": "markdown",
   "metadata": {},
   "source": [
    "3. Calculer la matrice de covariance du vecteur $\\mathbf{Z}=(Z(x_0),\\dots,Z(x_N))$."
   ]
  },
  {
   "cell_type": "code",
   "execution_count": null,
   "metadata": {},
   "outputs": [],
   "source": [
    "matrice_covariance = cov(matrice_distance)"
   ]
  },
  {
   "cell_type": "markdown",
   "metadata": {},
   "source": [
    "4. Extraire les 3 matrices de covariance suivantes :\n",
    "\n",
    " * entre les observations\n",
    "\n",
    " * entre les observations et les inconnues\n",
    "\n",
    " * entre les inconnues\n"
   ]
  },
  {
   "cell_type": "code",
   "execution_count": null,
   "metadata": {},
   "outputs": [],
   "source": [
    "cov_obs = matrice_covariance[observation_indexes][:,observation_indexes]\n",
    "cov_obs_unknown = matrice_covariance[observation_indexes][:,unknown_indexes]\n",
    "cov_unknown = matrice_covariance[unknown_indexes][:,unknown_indexes]"
   ]
  },
  {
   "cell_type": "markdown",
   "metadata": {},
   "source": [
    "5. Calculer l'espérance conditionnelle des composantes non observées connaissant les observations et la représenter avec les données."
   ]
  },
  {
   "cell_type": "code",
   "execution_count": null,
   "metadata": {},
   "outputs": [],
   "source": [
    "esp = np.array([mu]*N)\n",
    "esp_cond = esp[unknown_indexes] + np.transpose(cov_obs_unknown).dot(np.linalg.inv(cov_obs)).dot(depth-esp[observation_indexes])\n",
    "\n",
    "esp_concatene = []\n",
    "j=0\n",
    "for i in range(N):\n",
    "    if i in observation_indexes:\n",
    "        esp_concatene.append(depth[i//20])\n",
    "    else :\n",
    "        esp_concatene.append(esp_cond[j])\n",
    "        j+=1\n",
    "plt.plot(np.array(esp_concatene), label='Espérance conditionelle')\n",
    "plt.plot(observation_indexes, np.array(depth), 'r', label = 'Données')\n",
    "plt.legend()"
   ]
  },
  {
   "cell_type": "code",
   "execution_count": null,
   "metadata": {},
   "outputs": [],
   "source": [
    "esp = np.array([mu]*N)\n",
    "esp_cond = esp[unknown_indexes] + np.transpose(cov_obs_unknown).dot(np.linalg.inv(cov_obs)).dot(depth-esp[observation_indexes])\n",
    "\n",
    "plt.plot(unknown_indexes, esp_cond, label='Espérance conditionelle')\n",
    "plt.plot(observation_indexes, np.array(depth), 'r', label = 'Données')\n",
    "plt.legend()"
   ]
  },
  {
   "cell_type": "markdown",
   "metadata": {},
   "source": [
    "6. Calculer la matrice de covariance conditionnelle et tracer sa diagonale (variance conditionnelle) en fonction de la position. Commenter."
   ]
  },
  {
   "cell_type": "code",
   "execution_count": null,
   "metadata": {},
   "outputs": [],
   "source": [
    "cov_cond = cov_unknown - np.transpose(cov_obs_unknown).dot(np.linalg.inv(cov_obs)).dot(cov_obs_unknown)\n",
    "diag = [cov_cond[i, i] for i in range(95)]\n",
    "plt.plot(np.array(unknown_indexes)*Delta, diag)"
   ]
  },
  {
   "cell_type": "markdown",
   "metadata": {},
   "source": [
    "C'est bizarre..."
   ]
  },
  {
   "cell_type": "markdown",
   "metadata": {},
   "source": [
    "7. Effectuer une simulation conditionnelle. Sur un même graphique, tracer la simulation ainsi que les données et l'espérance conditionnelle. Commenter."
   ]
  },
  {
   "cell_type": "code",
   "execution_count": null,
   "metadata": {},
   "outputs": [],
   "source": [
    "Y = np.random.normal(0,1, 95)\n",
    "R = np.linalg.cholesky(cov_cond)\n",
    "Z_cond = esp_cond + R.dot(Y)\n",
    "plt.plot(np.array(unknown_indexes)*Delta, Z_cond, label='Simulation conditionelle')\n",
    "plt.plot(np.array(observation_indexes)*Delta, depth, 'r', label ='Données')\n",
    "plt.plot(np.array(unknown_indexes)*Delta, esp_cond,'g', label = 'Espérance conditionelle')\n",
    "plt.legend()"
   ]
  },
  {
   "cell_type": "markdown",
   "metadata": {},
   "source": [
    "C'est encore étrange"
   ]
  },
  {
   "cell_type": "markdown",
   "metadata": {},
   "source": [
    "8. Ecrire une fonction qui calcule la longueur du câble en fonction du vecteur des profondeurs et du pas de discrétisation."
   ]
  },
  {
   "cell_type": "code",
   "execution_count": null,
   "metadata": {},
   "outputs": [],
   "source": [
    "def long_cable(Z, delta= Delta):\n",
    "    l = 0\n",
    "    for i in range(1, N):\n",
    "        l+= np.sqrt(delta**2+ (Z[i]-Z[i-1])**2)\n",
    "    return l       "
   ]
  },
  {
   "cell_type": "markdown",
   "metadata": {},
   "source": [
    "9. Utiliser cette fonction pour calculer la longueur du câble à partir de 100 simulations. Comparer l'espérance conditionnelle (estimée) de la longueur avec la longueur de l'espérance conditionnelle."
   ]
  },
  {
   "cell_type": "code",
   "execution_count": null,
   "metadata": {},
   "outputs": [],
   "source": [
    "def concatenation(Z):\n",
    "    profondeur = []\n",
    "    j=0\n",
    "    for i in range(N):\n",
    "        if i in observation_indexes:\n",
    "            profondeur.append(depth[i//20])\n",
    "        else :\n",
    "            profondeur.append(Z[j])\n",
    "            j+=1\n",
    "    return profondeur"
   ]
  },
  {
   "cell_type": "code",
   "execution_count": null,
   "metadata": {},
   "outputs": [],
   "source": [
    "long_est = []\n",
    "#R = np.linalg.cholesky(cov_cond) #à revoir : pourquoi matrice_covariance et pas cov_cond ?\n",
    "\n",
    "for i in range(100):\n",
    "    Y = np.random.normal(0, 1, 95)\n",
    "    Z = esp_cond + R.dot(Y)\n",
    "    profondeur = concatenation(Z)\n",
    "    long_est.append(long_cable(profondeur))\n",
    "    plt.plot(np.array(unknown_indexes)*Delta, Z, 'b')\n",
    "\n",
    "plt.plot(np.array(observation_indexes)*Delta, depth, 'r', label ='Données')\n",
    "plt.plot(np.array(unknown_indexes)*Delta, esp_cond,'g', label = 'Espérance conditionelle')\n",
    "plt.legend()\n",
    "l = sum(long_est)/len(long_est)\n",
    "long_esp = long_cable(concatenation(esp_cond))\n",
    "print(f'La longueur moyenne simulée est {round(l,2)} m et celle calculée à partir de l\\'espérance conditionelle est {round(long_esp,2)} m.')"
   ]
  },
  {
   "cell_type": "markdown",
   "metadata": {},
   "source": [
    "10. Représenter la suite $M_n$ des moyennes des longueurs de câbles en fonction du nombre de simulations. Commenter."
   ]
  },
  {
   "cell_type": "code",
   "execution_count": null,
   "metadata": {},
   "outputs": [],
   "source": [
    "def M(n):\n",
    "    long_est = []\n",
    "    for i in range(n):\n",
    "        Y = np.random.normal(0, 1, 95)\n",
    "        Z = esp_cond + R.dot(Y)\n",
    "        profondeur = concatenation(Z)\n",
    "        long_est.append(long_cable(profondeur))\n",
    "    return(sum(long_est)/len(long_est))\n",
    "\n",
    "nb_simu = [1*i for i in range(1,100)]\n",
    "moy_cable = [M(i) for i in nb_simu]\n",
    "plt.plot(nb_simu, moy_cable)\n"
   ]
  },
  {
   "cell_type": "markdown",
   "metadata": {},
   "source": [
    "11. Représenter l'histogramme des longueurs de câbles générées."
   ]
  },
  {
   "cell_type": "code",
   "execution_count": null,
   "metadata": {},
   "outputs": [],
   "source": [
    "plt.hist(long_est, 20)[2]"
   ]
  },
  {
   "cell_type": "markdown",
   "metadata": {},
   "source": [
    "12. Donner un intervalle de confiance à 95% de la longueur du câble par 2 méthodes différentes. Commenter."
   ]
  },
  {
   "cell_type": "markdown",
   "metadata": {},
   "source": [
    "__Première méthode__ : On regarde sur l'histogramme précédent l'intervalle centré sur la valeur moyenne dans lequel se situent 95 (96 ici) des 100 valeurs."
   ]
  },
  {
   "cell_type": "code",
   "execution_count": null,
   "metadata": {},
   "outputs": [],
   "source": [
    "long_est.sort()\n",
    "indice_moyenne = 0\n",
    "while long_est[indice_moyenne]<l :\n",
    "    indice_moyenne +=1\n",
    "print(f'Il y a 96% de chance pour que la véritable longueur se situe dans l\\'intervalle [{round(long_est[max(indice_moyenne -48,0)],2)} m, {round(long_est[min(indice_moyenne +48, 99)],2)} m].')"
   ]
  },
  {
   "cell_type": "markdown",
   "metadata": {},
   "source": [
    "__Deuxième méthode__ : On utilise la formule de l'intervalle de confiance à 95%: $[l - \\frac{1}{\\sqrt{n}}; l - \\frac{1}{\\sqrt{n}}]$."
   ]
  },
  {
   "cell_type": "code",
   "execution_count": null,
   "metadata": {},
   "outputs": [],
   "source": [
    "print(f'Il y a 96% de chance pour que la véritable longueur se situe dans l\\'intervalle [{round(l-1/np.sqrt(100),2)} m, {round(l+1/np.sqrt(100),2)} m].')"
   ]
  },
  {
   "cell_type": "markdown",
   "metadata": {},
   "source": [
    "13. Donner une estimation de la probabilité que la longueur du câble dépasse 525 m."
   ]
  },
  {
   "cell_type": "code",
   "execution_count": null,
   "metadata": {},
   "outputs": [],
   "source": [
    "indice = 0\n",
    "while long_est[indice]<525 :\n",
    "    indice +=1\n",
    "print(f'Il y a {indice/100}% de chance pour que la longueur du cable soit supérieure à 525m.')"
   ]
  },
  {
   "cell_type": "markdown",
   "metadata": {},
   "source": [
    "14. Reprendre les questions précédentes avec 1000, 10000 puis 100000 simulations. Commenter."
   ]
  },
  {
   "cell_type": "markdown",
   "metadata": {},
   "source": [
    "**Pour 1000 :**"
   ]
  },
  {
   "cell_type": "code",
   "execution_count": null,
   "metadata": {},
   "outputs": [],
   "source": [
    "long_est = []\n",
    "for i in range(1000):\n",
    "    Y = np.random.normal(0, 1, 95)\n",
    "    Z = esp_cond + R.dot(Y)\n",
    "    profondeur = concatenation(Z)\n",
    "    long_est.append(long_cable(profondeur))\n",
    "l = sum(long_est)/len(long_est)\n",
    "print(f'La longueur moyenne simulée est {round(l,2)} m et celle calculée à partir de l\\'espérance conditionelle est {round(long_esp,2)} m.')\n",
    "\n",
    "long_est.sort()\n",
    "indice_moyenne = 0\n",
    "while long_est[indice_moyenne]<l :\n",
    "    indice_moyenne +=1\n",
    "print(f'Il y a 95% de chance pour que la véritable longueur se situe dans l\\'intervalle [{round(long_est[max(indice_moyenne -475,0)],2)} m, {round(long_est[min(indice_moyenne +475, 999)],2)} m].')\n",
    "\n",
    "indice = 0\n",
    "while long_est[indice]<525 :\n",
    "    indice +=1\n",
    "print(f'Il y a {indice/1000}% de chance pour que la longueur du cable soit supérieure à 525m.')\n",
    "\n",
    "plt.hist(long_est, 100)[2]"
   ]
  },
  {
   "cell_type": "markdown",
   "metadata": {},
   "source": [
    "**Pour 10 000 :**"
   ]
  },
  {
   "cell_type": "code",
   "execution_count": null,
   "metadata": {},
   "outputs": [],
   "source": [
    "long_est = []\n",
    "for i in range(10000):\n",
    "    Y = np.random.normal(0, 1, 95)\n",
    "    Z = esp_cond + R.dot(Y)\n",
    "    profondeur = concatenation(Z)\n",
    "    long_est.append(long_cable(profondeur))\n",
    "l = sum(long_est)/len(long_est)\n",
    "print(f'La longueur moyenne simulée est {round(l,2)} m et celle calculée à partir de l\\'espérance conditionelle est {round(long_esp,2)} m.')\n",
    "\n",
    "long_est.sort()\n",
    "indice_moyenne = 0\n",
    "while long_est[indice_moyenne]<l :\n",
    "    indice_moyenne +=1\n",
    "print(f'Il y a 95% de chance pour que la véritable longueur se situe dans l\\'intervalle [{round(long_est[max(indice_moyenne -95*100//2,0)],2)} m, {round(long_est[min(indice_moyenne +95*100//2, 9999)],2)} m].')\n",
    "\n",
    "indice = 0\n",
    "while long_est[indice]<525 :\n",
    "    indice +=1\n",
    "print(f'Il y a {indice/10000}% de chance pour que la longueur du cable soit supérieure à 525m.')\n",
    "\n",
    "plt.hist(long_est, 100)[2]"
   ]
  },
  {
   "cell_type": "markdown",
   "metadata": {},
   "source": [
    "**Pour 100 000 :**"
   ]
  },
  {
   "cell_type": "code",
   "execution_count": null,
   "metadata": {},
   "outputs": [],
   "source": [
    "long_est = []\n",
    "for i in range(100000):\n",
    "    Y = np.random.normal(0, 1, 95)\n",
    "    Z = esp_cond + R.dot(Y)\n",
    "    profondeur = concatenation(Z)\n",
    "    long_est.append(long_cable(profondeur))\n",
    "l = sum(long_est)/len(long_est)\n",
    "print(f'La longueur moyenne simulée est {round(l,2)} m et celle calculée à partir de l\\'espérance conditionelle est {round(long_esp,2)} m.')\n",
    "\n",
    "long_est.sort()\n",
    "indice_moyenne = 0\n",
    "while long_est[indice_moyenne]<l :\n",
    "    indice_moyenne +=1\n",
    "print(f'Il y a 95% de chance pour que la véritable longueur se situe dans l\\'intervalle [{round(long_est[max(indice_moyenne -95*1000//2,0)],2)} m, {round(long_est[min(indice_moyenne +95*1000//2, 99999)],2)} m].')\n",
    "\n",
    "indice = 0\n",
    "while long_est[indice]<525 :\n",
    "    indice +=1\n",
    "print(f'Il y a {indice/100000}% de chance pour que la longueur du cable soit supérieure à 525m.')\n",
    "\n",
    "plt.hist(long_est, 1000)[2]"
   ]
  }
 ],
 "metadata": {
  "@webio": {
   "lastCommId": "5ceb69a5bbd14071b254c2439a58ac4b",
   "lastKernelId": "0e923419-c540-42c1-ab5f-d0e05ff4521c"
  },
  "kernelspec": {
   "display_name": "Python 3",
   "language": "python",
   "name": "python3"
  },
  "language_info": {
   "codemirror_mode": {
    "name": "ipython",
    "version": 3
   },
   "file_extension": ".py",
   "mimetype": "text/x-python",
   "name": "python",
   "nbconvert_exporter": "python",
   "pygments_lexer": "ipython3",
   "version": "3.7.3"
  }
 },
 "nbformat": 4,
 "nbformat_minor": 2
}
